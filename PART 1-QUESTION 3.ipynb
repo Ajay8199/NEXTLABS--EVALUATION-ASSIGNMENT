{
 "cells": [
  {
   "cell_type": "markdown",
   "id": "1d037f5b",
   "metadata": {},
   "source": [
    "Ranking Data - Understanding the co-relation between keyword rankings with description or any other attribute\n",
    "\n",
    "1. Is there any co-relation between short description, long description and ranking? Does the placement of keyword (for example - using a keyword in the first 10 words - have any co-relation with the ranking)?\n",
    "\n",
    "2. Does APP ID (Also known as package name) play any role in ranking?  \n",
    "\n",
    "3. Any other pattern or good questions that you can think of and answer?\n"
   ]
  },
  {
   "cell_type": "code",
   "execution_count": 3,
   "id": "19684bd0",
   "metadata": {},
   "outputs": [],
   "source": [
    "import numpy as np\n",
    "import pandas as pd\n",
    "import seaborn as sns"
   ]
  },
  {
   "cell_type": "code",
   "execution_count": 9,
   "id": "6a92233c",
   "metadata": {},
   "outputs": [
    {
     "data": {
      "text/html": [
       "<div>\n",
       "<style scoped>\n",
       "    .dataframe tbody tr th:only-of-type {\n",
       "        vertical-align: middle;\n",
       "    }\n",
       "\n",
       "    .dataframe tbody tr th {\n",
       "        vertical-align: top;\n",
       "    }\n",
       "\n",
       "    .dataframe thead th {\n",
       "        text-align: right;\n",
       "    }\n",
       "</style>\n",
       "<table border=\"1\" class=\"dataframe\">\n",
       "  <thead>\n",
       "    <tr style=\"text-align: right;\">\n",
       "      <th></th>\n",
       "      <th>ID</th>\n",
       "      <th>Keyword</th>\n",
       "      <th>Rank</th>\n",
       "      <th>Country</th>\n",
       "      <th>Language</th>\n",
       "      <th>Date</th>\n",
       "      <th>App ID</th>\n",
       "      <th>Date of Last Description Change</th>\n",
       "      <th>Short Description</th>\n",
       "      <th>Long Description</th>\n",
       "    </tr>\n",
       "  </thead>\n",
       "  <tbody>\n",
       "    <tr>\n",
       "      <th>0</th>\n",
       "      <td>1</td>\n",
       "      <td>browser</td>\n",
       "      <td>2.0</td>\n",
       "      <td>in</td>\n",
       "      <td>en</td>\n",
       "      <td>16-12-2020</td>\n",
       "      <td>net.fast.web.browser</td>\n",
       "      <td>18-12-2020</td>\n",
       "      <td>The small, fastest, secure Web Browser, best m...</td>\n",
       "      <td>One of the smallest, fastest, secure Web Brows...</td>\n",
       "    </tr>\n",
       "    <tr>\n",
       "      <th>1</th>\n",
       "      <td>2</td>\n",
       "      <td>browser</td>\n",
       "      <td>3.0</td>\n",
       "      <td>in</td>\n",
       "      <td>en</td>\n",
       "      <td>16-12-2020</td>\n",
       "      <td>com.android.chrome</td>\n",
       "      <td>18-12-2020</td>\n",
       "      <td>Fast, simple, and secure. Google Chrome browse...</td>\n",
       "      <td>Google Chrome is a fast, easy to use, and secu...</td>\n",
       "    </tr>\n",
       "    <tr>\n",
       "      <th>2</th>\n",
       "      <td>3</td>\n",
       "      <td>browser</td>\n",
       "      <td>4.0</td>\n",
       "      <td>in</td>\n",
       "      <td>en</td>\n",
       "      <td>16-12-2020</td>\n",
       "      <td>com.opera.browser</td>\n",
       "      <td>27-02-2021</td>\n",
       "      <td>Fast, safe web browser: free VPN, Ad blocker, ...</td>\n",
       "      <td>Fast, safe and private, introducing the latest...</td>\n",
       "    </tr>\n",
       "    <tr>\n",
       "      <th>3</th>\n",
       "      <td>3</td>\n",
       "      <td>browser</td>\n",
       "      <td>4.0</td>\n",
       "      <td>in</td>\n",
       "      <td>en</td>\n",
       "      <td>16-12-2020</td>\n",
       "      <td>com.opera.browser</td>\n",
       "      <td>18-12-2020</td>\n",
       "      <td>Fast, safe web browser: free VPN, Ad blocker, ...</td>\n",
       "      <td>Opera is a fast, safe web browser for your And...</td>\n",
       "    </tr>\n",
       "    <tr>\n",
       "      <th>4</th>\n",
       "      <td>4</td>\n",
       "      <td>browser</td>\n",
       "      <td>1.0</td>\n",
       "      <td>in</td>\n",
       "      <td>en</td>\n",
       "      <td>16-12-2020</td>\n",
       "      <td>com.cloudmosa.puffinTV</td>\n",
       "      <td>07-02-2021</td>\n",
       "      <td>Puffin TV Browser - One App to Watch All Video...</td>\n",
       "      <td>Puffin TV Browser is a special edition of Puff...</td>\n",
       "    </tr>\n",
       "  </tbody>\n",
       "</table>\n",
       "</div>"
      ],
      "text/plain": [
       "   ID  Keyword  Rank Country Language        Date                  App ID  \\\n",
       "0   1  browser   2.0      in       en  16-12-2020    net.fast.web.browser   \n",
       "1   2  browser   3.0      in       en  16-12-2020      com.android.chrome   \n",
       "2   3  browser   4.0      in       en  16-12-2020       com.opera.browser   \n",
       "3   3  browser   4.0      in       en  16-12-2020       com.opera.browser   \n",
       "4   4  browser   1.0      in       en  16-12-2020  com.cloudmosa.puffinTV   \n",
       "\n",
       "  Date of Last Description Change  \\\n",
       "0                      18-12-2020   \n",
       "1                      18-12-2020   \n",
       "2                      27-02-2021   \n",
       "3                      18-12-2020   \n",
       "4                      07-02-2021   \n",
       "\n",
       "                                   Short Description  \\\n",
       "0  The small, fastest, secure Web Browser, best m...   \n",
       "1  Fast, simple, and secure. Google Chrome browse...   \n",
       "2  Fast, safe web browser: free VPN, Ad blocker, ...   \n",
       "3  Fast, safe web browser: free VPN, Ad blocker, ...   \n",
       "4  Puffin TV Browser - One App to Watch All Video...   \n",
       "\n",
       "                                    Long Description  \n",
       "0  One of the smallest, fastest, secure Web Brows...  \n",
       "1  Google Chrome is a fast, easy to use, and secu...  \n",
       "2  Fast, safe and private, introducing the latest...  \n",
       "3  Opera is a fast, safe web browser for your And...  \n",
       "4  Puffin TV Browser is a special edition of Puff...  "
      ]
     },
     "execution_count": 9,
     "metadata": {},
     "output_type": "execute_result"
    }
   ],
   "source": [
    "data = pd.read_csv(\"browser_rankings_data.csv\")\n",
    "data.head()"
   ]
  },
  {
   "cell_type": "code",
   "execution_count": 10,
   "id": "de7d1d38",
   "metadata": {},
   "outputs": [
    {
     "data": {
      "text/html": [
       "<div>\n",
       "<style scoped>\n",
       "    .dataframe tbody tr th:only-of-type {\n",
       "        vertical-align: middle;\n",
       "    }\n",
       "\n",
       "    .dataframe tbody tr th {\n",
       "        vertical-align: top;\n",
       "    }\n",
       "\n",
       "    .dataframe thead th {\n",
       "        text-align: right;\n",
       "    }\n",
       "</style>\n",
       "<table border=\"1\" class=\"dataframe\">\n",
       "  <thead>\n",
       "    <tr style=\"text-align: right;\">\n",
       "      <th></th>\n",
       "      <th>ID</th>\n",
       "      <th>Rank</th>\n",
       "    </tr>\n",
       "  </thead>\n",
       "  <tbody>\n",
       "    <tr>\n",
       "      <th>ID</th>\n",
       "      <td>1.000000</td>\n",
       "      <td>0.008355</td>\n",
       "    </tr>\n",
       "    <tr>\n",
       "      <th>Rank</th>\n",
       "      <td>0.008355</td>\n",
       "      <td>1.000000</td>\n",
       "    </tr>\n",
       "  </tbody>\n",
       "</table>\n",
       "</div>"
      ],
      "text/plain": [
       "            ID      Rank\n",
       "ID    1.000000  0.008355\n",
       "Rank  0.008355  1.000000"
      ]
     },
     "execution_count": 10,
     "metadata": {},
     "output_type": "execute_result"
    }
   ],
   "source": [
    "data.corr(method='pearson')"
   ]
  },
  {
   "cell_type": "code",
   "execution_count": 11,
   "id": "1020ceec",
   "metadata": {},
   "outputs": [
    {
     "name": "stdout",
     "output_type": "stream",
     "text": [
      "&amp;        0.401746\n",
      "-           -0.233195\n",
      "Ad          -0.141335\n",
      "All         -0.233195\n",
      "Android     -0.051519\n",
      "               ...   \n",
      "to          -0.233195\n",
      "trackers.   -0.181225\n",
      "video,       0.165066\n",
      "web          0.257827\n",
      "with         0.775795\n",
      "Length: 75, dtype: float64\n"
     ]
    }
   ],
   "source": [
    "Q1 = data[\"Short Description\"].str.get_dummies(sep=' ').corrwith(data[\"Rank\"])\n",
    "print (Q1)"
   ]
  },
  {
   "cell_type": "code",
   "execution_count": 12,
   "id": "3ab802c1",
   "metadata": {},
   "outputs": [
    {
     "name": "stdout",
     "output_type": "stream",
     "text": [
      "\\r\\n                0.113322\n",
      "\\r\\n\\r\\n\\r\\n★      -0.097283\n",
      "\\r\\n\\r\\nAbout       0.611089\n",
      "\\r\\n\\r\\nDownload   -0.183369\n",
      "\\r\\n\\r\\nEasily     -0.097283\n",
      "                      ...   \n",
      "you’ve              0.775795\n",
      "–                   0.775795\n",
      "—                  -0.181225\n",
      "“Tap               -0.051519\n",
      "★                  -0.097283\n",
      "Length: 1399, dtype: float64\n"
     ]
    }
   ],
   "source": [
    "Q2 = df[\"Long Description\"].str.get_dummies(sep=' ').corrwith(df[\"Rank\"])\n",
    "print (Q2)"
   ]
  },
  {
   "cell_type": "code",
   "execution_count": 13,
   "id": "98dde3c1",
   "metadata": {},
   "outputs": [
    {
     "name": "stdout",
     "output_type": "stream",
     "text": [
      "com.android.chrome              -0.051519\n",
      "com.brave.browser               -0.183369\n",
      "com.cloudmosa.puffinTV          -0.233195\n",
      "com.duckduckgo.mobile.android   -0.181225\n",
      "com.opera.browser               -0.141335\n",
      "com.transsion.phoenix            0.165066\n",
      "com.vivaldi.browser              0.775795\n",
      "net.fast.web.browser            -0.083249\n",
      "dtype: float64\n"
     ]
    }
   ],
   "source": [
    "Q3 = data[\"App ID\"].str.get_dummies(sep=' ').corrwith(data[\"Rank\"])\n",
    "print (Q3)"
   ]
  },
  {
   "cell_type": "markdown",
   "id": "8b5da23c",
   "metadata": {},
   "source": [
    "Q) Is there any co-relation between short description, long description and ranking? Does the placement of keyword (for example - using a keyword in the first 10 words - have any co-relation with the ranking)?\n",
    "\n",
    "Ans) Yes their is co-relation between short description, long description and rankings. And also the placement of words is the key. If the co-relation scores of the words is negative then those are having a negative correlation (Ranks decrease as these words are used and if the co-relation scores of the words is positive then those are having a positive co-relation (Ranks increase as these words used).\n",
    "\n",
    "Q) Does APP ID (Also known as package name) play any role in ranking?\n",
    "\n",
    "Ans) Yes APP ID is also playing the role in ranking as mentioned negative scores represent negative co-relation and positive scores represent positive co-relation."
   ]
  },
  {
   "cell_type": "code",
   "execution_count": null,
   "id": "dc885665",
   "metadata": {},
   "outputs": [],
   "source": []
  }
 ],
 "metadata": {
  "kernelspec": {
   "display_name": "Python 3 (ipykernel)",
   "language": "python",
   "name": "python3"
  },
  "language_info": {
   "codemirror_mode": {
    "name": "ipython",
    "version": 3
   },
   "file_extension": ".py",
   "mimetype": "text/x-python",
   "name": "python",
   "nbconvert_exporter": "python",
   "pygments_lexer": "ipython3",
   "version": "3.9.7"
  }
 },
 "nbformat": 4,
 "nbformat_minor": 5
}
